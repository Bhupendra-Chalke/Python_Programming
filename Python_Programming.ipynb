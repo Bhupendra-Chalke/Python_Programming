{
  "nbformat": 4,
  "nbformat_minor": 0,
  "metadata": {
    "colab": {
      "name": "Python_Programming.ipynb",
      "provenance": [],
      "collapsed_sections": [],
      "authorship_tag": "ABX9TyNdMXZxcvkvdAoosCLd0YJH",
      "include_colab_link": true
    },
    "kernelspec": {
      "name": "python3",
      "display_name": "Python 3"
    },
    "language_info": {
      "name": "python"
    }
  },
  "cells": [
    {
      "cell_type": "markdown",
      "metadata": {
        "id": "view-in-github",
        "colab_type": "text"
      },
      "source": [
        "<a href=\"https://colab.research.google.com/github/Bhupendra-Chalke/Python_Programming/blob/main/Python_Programming.ipynb\" target=\"_parent\"><img src=\"https://colab.research.google.com/assets/colab-badge.svg\" alt=\"Open In Colab\"/></a>"
      ]
    },
    {
      "cell_type": "markdown",
      "source": [
        "# **Chapter 1** - First Python programming\n",
        "\n"
      ],
      "metadata": {
        "id": "VGhjnzS3Ch9X"
      }
    },
    {
      "cell_type": "markdown",
      "source": [
        "**1[a] Hello World**"
      ],
      "metadata": {
        "id": "LUGrtsWUPJZs"
      }
    },
    {
      "cell_type": "code",
      "source": [
        "print('Hello World')"
      ],
      "metadata": {
        "colab": {
          "base_uri": "https://localhost:8080/"
        },
        "id": "HEBXmpfmCTbu",
        "outputId": "82409571-f766-4345-8061-b133825628ba"
      },
      "execution_count": 3,
      "outputs": [
        {
          "output_type": "stream",
          "name": "stdout",
          "text": [
            "Hello World\n"
          ]
        }
      ]
    },
    {
      "cell_type": "code",
      "source": [
        "print('AI session is going good for now')"
      ],
      "metadata": {
        "colab": {
          "base_uri": "https://localhost:8080/"
        },
        "id": "Gz3xaLNSD-Rs",
        "outputId": "68f88c13-4e13-4e58-9949-f9f95dfaa4b5"
      },
      "execution_count": 6,
      "outputs": [
        {
          "output_type": "stream",
          "name": "stdout",
          "text": [
            "AI session is going good for now\n"
          ]
        }
      ]
    },
    {
      "cell_type": "code",
      "source": [
        "print(3647)"
      ],
      "metadata": {
        "colab": {
          "base_uri": "https://localhost:8080/"
        },
        "id": "E8qeZ0RRPX9D",
        "outputId": "4a351442-260e-45b8-890e-0eed1a14d526"
      },
      "execution_count": 7,
      "outputs": [
        {
          "output_type": "stream",
          "name": "stdout",
          "text": [
            "3647\n"
          ]
        }
      ]
    },
    {
      "cell_type": "code",
      "source": [
        "print(\"Abhijeet replied, 'Ai session is good for now.'\")"
      ],
      "metadata": {
        "colab": {
          "base_uri": "https://localhost:8080/"
        },
        "id": "i8md73X7Pifx",
        "outputId": "a5f994c6-fdb5-4a6d-cd64-5c1727cd4b45"
      },
      "execution_count": 9,
      "outputs": [
        {
          "output_type": "stream",
          "name": "stdout",
          "text": [
            "Abhijeet replied, 'Ai session is good for now.'\n"
          ]
        }
      ]
    },
    {
      "cell_type": "code",
      "source": [
        "print(\"\"\"Abhijeet replies, \"John's seesion is bit boring.\" \"\"\")"
      ],
      "metadata": {
        "colab": {
          "base_uri": "https://localhost:8080/"
        },
        "id": "CMVbO0RuP0H6",
        "outputId": "a1cc8228-024c-48c2-a862-156442153bdd"
      },
      "execution_count": 13,
      "outputs": [
        {
          "output_type": "stream",
          "name": "stdout",
          "text": [
            "Abhijeet replies, \"John's seesion is bit boring.\" \n"
          ]
        }
      ]
    },
    {
      "cell_type": "code",
      "source": [
        ""
      ],
      "metadata": {
        "id": "8zA5tmn5Qfdw"
      },
      "execution_count": null,
      "outputs": []
    },
    {
      "cell_type": "markdown",
      "source": [
        "**1[b] Create a variable**"
      ],
      "metadata": {
        "id": "0EOH-wqaQt8P"
      }
    },
    {
      "cell_type": "code",
      "source": [
        "participants = ['Abhijeet', 'Bhupendra', 'Amrutha', 'Mukesh', 'Jamuna', 'Khushbu']"
      ],
      "metadata": {
        "id": "gGa8UU8zQzU8"
      },
      "execution_count": 14,
      "outputs": []
    },
    {
      "cell_type": "code",
      "source": [
        "participants"
      ],
      "metadata": {
        "colab": {
          "base_uri": "https://localhost:8080/"
        },
        "id": "-M-qSz57RCr1",
        "outputId": "61215c8a-e692-406a-ad08-9bc829ed5f29"
      },
      "execution_count": 15,
      "outputs": [
        {
          "output_type": "execute_result",
          "data": {
            "text/plain": [
              "['Abhijeet', 'Bhupendra', 'Amrutha', 'Mukesh', 'Jamuna', 'Khushbu']"
            ]
          },
          "metadata": {},
          "execution_count": 15
        }
      ]
    },
    {
      "cell_type": "code",
      "source": [
        "len(participants)"
      ],
      "metadata": {
        "colab": {
          "base_uri": "https://localhost:8080/"
        },
        "id": "mx4brpXbRFwb",
        "outputId": "7d7d2aba-a913-4f5b-c621-2816cf3a03ed"
      },
      "execution_count": 16,
      "outputs": [
        {
          "output_type": "execute_result",
          "data": {
            "text/plain": [
              "6"
            ]
          },
          "metadata": {},
          "execution_count": 16
        }
      ]
    },
    {
      "cell_type": "code",
      "source": [
        "participants[:]"
      ],
      "metadata": {
        "colab": {
          "base_uri": "https://localhost:8080/"
        },
        "id": "W7MEvZLfRKRv",
        "outputId": "949a2c38-caf0-494a-e8f7-5362ea64c1ed"
      },
      "execution_count": 17,
      "outputs": [
        {
          "output_type": "execute_result",
          "data": {
            "text/plain": [
              "['Abhijeet', 'Bhupendra', 'Amrutha', 'Mukesh', 'Jamuna', 'Khushbu']"
            ]
          },
          "metadata": {},
          "execution_count": 17
        }
      ]
    },
    {
      "cell_type": "code",
      "source": [
        "participants[:4+1]"
      ],
      "metadata": {
        "colab": {
          "base_uri": "https://localhost:8080/"
        },
        "id": "bgaZ_PUTRXIA",
        "outputId": "3a9598d8-e2b7-48fa-a0a7-4ac17221213f"
      },
      "execution_count": 19,
      "outputs": [
        {
          "output_type": "execute_result",
          "data": {
            "text/plain": [
              "['Abhijeet', 'Bhupendra', 'Amrutha', 'Mukesh', 'Jamuna']"
            ]
          },
          "metadata": {},
          "execution_count": 19
        }
      ]
    },
    {
      "cell_type": "code",
      "source": [
        "participants[1:4]"
      ],
      "metadata": {
        "colab": {
          "base_uri": "https://localhost:8080/"
        },
        "id": "5fVidvR4RaB5",
        "outputId": "0fc62192-cfef-4f51-ab1e-a34cc2f5e2a7"
      },
      "execution_count": 20,
      "outputs": [
        {
          "output_type": "execute_result",
          "data": {
            "text/plain": [
              "['Bhupendra', 'Amrutha', 'Mukesh']"
            ]
          },
          "metadata": {},
          "execution_count": 20
        }
      ]
    },
    {
      "cell_type": "code",
      "source": [
        "participants[1-1:4+1]"
      ],
      "metadata": {
        "colab": {
          "base_uri": "https://localhost:8080/"
        },
        "id": "J9lt1zvIRjfQ",
        "outputId": "b7d55581-a672-4c71-b32c-76f1ca74d124"
      },
      "execution_count": 21,
      "outputs": [
        {
          "output_type": "execute_result",
          "data": {
            "text/plain": [
              "['Abhijeet', 'Bhupendra', 'Amrutha', 'Mukesh', 'Jamuna']"
            ]
          },
          "metadata": {},
          "execution_count": 21
        }
      ]
    },
    {
      "cell_type": "code",
      "source": [
        ""
      ],
      "metadata": {
        "id": "2N3vyFtqRo8B"
      },
      "execution_count": null,
      "outputs": []
    }
  ]
}